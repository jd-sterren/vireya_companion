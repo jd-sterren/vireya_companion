{
 "cells": [
  {
   "cell_type": "code",
   "execution_count": 1,
   "id": "2fefe973",
   "metadata": {},
   "outputs": [
    {
     "name": "stdout",
     "output_type": "stream",
     "text": [
      "How would you like to run Vireya today?\n",
      "1. OpenAI (GPT-4 Turbo)\n",
      "2. Local Ollama (Mistral)\n"
     ]
    },
    {
     "name": "stderr",
     "output_type": "stream",
     "text": [
      "UserWarning: You have not specified a value for the `type` parameter. Defaulting to the 'tuples' format for chatbot messages, but this is deprecated and will be removed in a future version of Gradio. Please set type='messages' instead, which uses openai-style dictionaries with 'role' and 'content' keys.\n"
     ]
    },
    {
     "name": "stdout",
     "output_type": "stream",
     "text": [
      "* Running on local URL:  http://127.0.0.1:7860\n",
      "\n",
      "To create a public link, set `share=True` in `launch()`.\n"
     ]
    },
    {
     "data": {
      "text/html": [
       "<div><iframe src=\"http://127.0.0.1:7860/\" width=\"100%\" height=\"500\" allow=\"autoplay; camera; microphone; clipboard-read; clipboard-write;\" frameborder=\"0\" allowfullscreen></iframe></div>"
      ],
      "text/plain": [
       "<IPython.core.display.HTML object>"
      ]
     },
     "metadata": {},
     "output_type": "display_data"
    }
   ],
   "source": [
    "from dotenv import load_dotenv\n",
    "import os\n",
    "import inc.startup as startup\n",
    "import inc.ui as ui\n",
    "import inc.conversation as convo\n",
    "from inc.credential_manager import inject_decrypted_env\n",
    "\n",
    "inject_decrypted_env(environment=\"prod\")\n",
    "\n",
    "OPENAI_API_KEY = os.getenv(\"OPENAI_API_KEY\")\n",
    "\n",
    "if __name__ == \"__main__\":\n",
    "    engine = startup.start_session()\n",
    "    base_prompt = startup.create_base_prompt()\n",
    "\n",
    "    openai_chain = None\n",
    "    if engine == \"openai\":\n",
    "        openai_chain = convo.get_openai_chain(OPENAI_API_KEY, base_prompt)\n",
    "\n",
    "    ui.launch_gradio(engine, base_prompt, openai_chain)\n"
   ]
  }
 ],
 "metadata": {
  "kernelspec": {
   "display_name": "gideon",
   "language": "python",
   "name": "python3"
  },
  "language_info": {
   "codemirror_mode": {
    "name": "ipython",
    "version": 3
   },
   "file_extension": ".py",
   "mimetype": "text/x-python",
   "name": "python",
   "nbconvert_exporter": "python",
   "pygments_lexer": "ipython3",
   "version": "3.10.16"
  }
 },
 "nbformat": 4,
 "nbformat_minor": 5
}
